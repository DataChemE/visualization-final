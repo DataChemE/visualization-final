{
 "cells": [
  {
   "cell_type": "code",
   "execution_count": null,
   "metadata": {},
   "outputs": [],
   "source": [
    "import altair as alt\n",
    "import pandas as pd\n",
    "import json\n"
   ]
  },
  {
   "cell_type": "code",
   "execution_count": null,
   "metadata": {},
   "outputs": [],
   "source": [
    "\n",
    "# Load the GeoJSON file for NYC map\n",
    "with open('Borough Boundaries.geojson') as f:\n",
    "    nyc_geojson = json.load(f)\n",
    "\n",
    "# Load the dataset\n",
    "data = pd.read_csv('2022_Motor_Vehicle_Collisions_-_Crashes.csv')\n",
    "\n",
    "# Convert borough names in data to match the format in the GeoJSON file (title case)\n",
    "data['BOROUGH'] = data['BOROUGH'].str.title()\n",
    "\n",
    "# Aggregate data by borough\n",
    "borough_data = data.groupby('BOROUGH').size().reset_index(name='Incident Count')\n",
    "\n",
    "# Convert GeoJSON into a format Altair can use\n",
    "nyc_borough_geojson_altair = alt.InlineData(values=nyc_geojson, format=alt.DataFormat(property='features', type='json'))\n",
    "\n",
    "# Create the choropleth chart\n",
    "choropleth = alt.Chart(nyc_borough_geojson_altair).mark_geoshape(\n",
    "    stroke='black',\n",
    "    strokeWidth=1\n",
    ").encode(\n",
    "    color='Incident Count:Q',\n",
    "    tooltip=['properties.boro_name:N', 'Incident Count:Q']\n",
    ").transform_lookup(\n",
    "    lookup='properties.boro_name',\n",
    "    from_=alt.LookupData(borough_data, 'BOROUGH', ['Incident Count'])\n",
    ").properties(\n",
    "    title='NYC Motor Vehicle Collisions by Borough',\n",
    "    width=500,\n",
    "    height=300\n",
    ")\n",
    "\n",
    "choropleth"
   ]
  }
 ],
 "metadata": {
  "language_info": {
   "name": "python"
  }
 },
 "nbformat": 4,
 "nbformat_minor": 2
}
